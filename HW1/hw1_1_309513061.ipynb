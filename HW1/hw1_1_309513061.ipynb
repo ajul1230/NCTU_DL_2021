{
  "nbformat": 4,
  "nbformat_minor": 0,
  "metadata": {
    "colab": {
      "name": "hw1_1_309513061.ipynb",
      "provenance": [],
      "collapsed_sections": []
    },
    "kernelspec": {
      "name": "python3",
      "display_name": "Python 3"
    },
    "language_info": {
      "name": "python"
    },
    "accelerator": "GPU"
  },
  "cells": [
    {
      "cell_type": "code",
      "metadata": {
        "id": "C6BC3zysRLhZ"
      },
      "source": [
        "import numpy as np\n",
        "import pandas as pd\n",
        "import matplotlib.pyplot as plt\n",
        "import argparse\n",
        "import json\n",
        "from PIL import Image"
      ],
      "execution_count": null,
      "outputs": []
    },
    {
      "cell_type": "markdown",
      "metadata": {
        "id": "GJcc_vLNuO_9"
      },
      "source": [
        "先撰寫需要之涵式，以及資料前處理。"
      ]
    },
    {
      "cell_type": "code",
      "metadata": {
        "id": "-fItQ2tpSjQf"
      },
      "source": [
        "class relu(object):\n",
        "  def __init__(self):\n",
        "    self.mask = None\n",
        "  def foward(self,x):\n",
        "    self.mask = (x<=0)\n",
        "    out = x.copy()\n",
        "    out[self.mask] = 0\n",
        "    return out\n",
        "  def backward(self,dout):\n",
        "    dout[self.mask] = 0\n",
        "    dx = dout\n",
        "    return dx\n",
        "\n",
        "class softmax(object):\n",
        "  def __init__(self):\n",
        "    pass\n",
        "  def foward(self,x):\n",
        "    x = x-np.max(x,axis=1,keepdims=True)\n",
        "    x = np.exp(x)\n",
        "    x = x/np.sum(x,axis=1,keepdims=True)\n",
        "    return x\n",
        "    # out = (np.exp(z) / (np.sum(np.exp(z), axis=1).reshape(z.shape[0],1)))\n",
        "    # return out\n",
        "  def backward(self,dout):\n",
        "    dx = dout\n",
        "    return dx\n",
        "\n"
      ],
      "execution_count": null,
      "outputs": []
    },
    {
      "cell_type": "code",
      "metadata": {
        "id": "Zm9ZEySOSnkn"
      },
      "source": [
        "def label(y):\n",
        "  return pd.get_dummies(y).values"
      ],
      "execution_count": null,
      "outputs": []
    },
    {
      "cell_type": "code",
      "metadata": {
        "id": "IBpMivt9S9NW"
      },
      "source": [
        "class layer(object):\n",
        "  def __init__(self,input_size,out_size,activator,zero_weight=False):\n",
        "    self.in_size = input_size\n",
        "    self.out_size = out_size\n",
        "    self.activator = activator\n",
        "    if zero_weight:\n",
        "      self.weight = np.zeros([self.in_size,self.out_size])\n",
        "    else:\n",
        "      self.weight = np.random.uniform(-0.1,0.1,(self.in_size,self.out_size)) #XW\n",
        "    self.b = np.random.uniform(-0.1,0.1,(1,self.out_size))\n",
        "  def forward(self,x):\n",
        "    self.x = x\n",
        "    self.Y = np.dot(self.x,self.weight)+self.b\n",
        "    self.output_y = self.activator.foward(self.Y)\n",
        "  def back(self,delta_y):\n",
        "    dout_activator = self.activator.backward(delta_y)\n",
        "    self.delta_x = np.dot(dout_activator,self.weight.T)\n",
        "    self.delta_w = np.dot(self.x.T,dout_activator)\n",
        "    self.delta_b = np.sum(dout_activator,axis=0)\n",
        "    \n",
        "  def para_update(self,lr):\n",
        "    self.weight -= (lr/len(self.x))*self.delta_w\n",
        "    self.b -= (lr/len(self.x))*self.delta_b"
      ],
      "execution_count": null,
      "outputs": []
    },
    {
      "cell_type": "code",
      "metadata": {
        "id": "d6c62EjyTBg2"
      },
      "source": [
        "class nets(object):\n",
        "  def __init__(self,neurons,activators,zero_w):\n",
        "    self.layers = []\n",
        "    for i in range(len(neurons)-1):\n",
        "      self.layers.append(layer(neurons[i],neurons[i+1],activators[i],zero_w))\n",
        "  def train(self,x_train,y_train,x_test,y_test,lr,batch,epoch):\n",
        "    self.lr = lr\n",
        "    self.batch = batch\n",
        "    self.epoch = epoch\n",
        "    self.total_accu = []\n",
        "    self.total_loss = []\n",
        "    self.total_accu_test = []\n",
        "    self.total_loss_test = []\n",
        "    if len(x_train)%batch==0:\n",
        "      self.mini_batch = len(x_train)//batch\n",
        "    else:\n",
        "      self.mini_batch = len(x_train)//batch+1\n",
        "    for i in range(epoch):\n",
        "      self.train_accu = 0\n",
        "      self.train_loss = 0\n",
        "      self.test_accu = 0\n",
        "      self.test_loss = 0\n",
        "      for j in range(self.mini_batch):\n",
        "        if j == self.mini_batch-1:\n",
        "          train = x_train[j*batch:,:]\n",
        "          label = y_train[j*batch:,:]\n",
        "        else:\n",
        "          train = x_train[j*batch:j*batch+batch,:]\n",
        "          label = y_train[j*batch:j*batch+batch,:]\n",
        "        out = self.predict(train)\n",
        "        self.train_accu += self.accu(out,label)\n",
        "        self.train_loss += self.cross(out,label)/len(train)\n",
        "        dout = out-label\n",
        "        self.backward(dout)\n",
        "        self.update()\n",
        "        out_test = self.predict(x_test)\n",
        "        self.test_accu += self.accu(out_test,y_test)\n",
        "        self.test_loss += self.cross(out_test,y_test)/len(x_test)\n",
        "      self.total_accu.append(self.train_accu/self.mini_batch)\n",
        "      self.total_loss.append(self.train_loss/self.mini_batch)\n",
        "      self.total_accu_test.append(self.test_accu/self.mini_batch)\n",
        "      self.total_loss_test.append(self.test_loss/self.mini_batch)\n",
        "    return self.total_accu,self.total_loss,self.total_accu_test,self.total_loss_test\n",
        "\n",
        "  def predict(self,x):\n",
        "    output = x\n",
        "    for l in self.layers:\n",
        "      l.forward(output)\n",
        "      output = l.output_y\n",
        "    return output\n",
        "\n",
        "  def backward(self,dout):\n",
        "    dy = dout\n",
        "    for l in self.layers[::-1]:\n",
        "      l.back(dy)\n",
        "      dy = l.delta_x\n",
        "    return dy\n",
        "  \n",
        "  def update(self):\n",
        "    for l in self.layers:\n",
        "      l.para_update(self.lr)\n",
        "  \n",
        "  def accu(self,ylabel,target):\n",
        "    res = ylabel.argmax(axis=1)\n",
        "    tar = target.argmax(axis=1)\n",
        "    accu = 0\n",
        "    for r,t in zip(res,tar):\n",
        "      if r==t:\n",
        "        accu += 1\n",
        "    return (accu/len(res))\n",
        "  \n",
        "  def cross(self,y,t):\n",
        "    return -np.sum(t*np.log(y))\n",
        "        "
      ],
      "execution_count": null,
      "outputs": []
    },
    {
      "cell_type": "code",
      "metadata": {
        "id": "EHuMGd8G_Cq4"
      },
      "source": [
        "class nets_new(object):\n",
        "  def __init__(self,neurons,activators,zero_w):\n",
        "    self.layers = []\n",
        "    for i in range(len(neurons)-1):\n",
        "      self.layers.append(layer(neurons[i],neurons[i+1],activators[i],zero_w))\n",
        "  def train(self,x_train,y_train,x_test,y_test,lr,batch,epoch):\n",
        "    self.lr = lr\n",
        "    self.batch = batch\n",
        "    self.epoch = epoch\n",
        "    self.total_accu = []\n",
        "    self.total_loss = []\n",
        "    self.total_accu_test = []\n",
        "    self.total_loss_test = []\n",
        "    if len(x_train)%batch==0:\n",
        "      self.mini_batch = len(x_train)//batch\n",
        "    else:\n",
        "      self.mini_batch = len(x_train)//batch+1\n",
        "    for i in range(epoch):\n",
        "      for j in range(self.mini_batch):\n",
        "        if j == self.mini_batch-1:\n",
        "          train = x_train[j*batch:,:]\n",
        "          label = y_train[j*batch:,:]\n",
        "        else:\n",
        "          train = x_train[j*batch:j*batch+batch,:]\n",
        "          label = y_train[j*batch:j*batch+batch,:]\n",
        "        out = self.predict(train)\n",
        "        self.total_accu.append(self.accu(out,label))\n",
        "        self.total_loss.append(self.cross(out,label)/len(train))\n",
        "        dout = out-label\n",
        "        self.backward(dout)\n",
        "        self.update()\n",
        "        out_test = self.predict(x_test)\n",
        "        self.total_accu_test.append(self.accu(out_test,y_test))\n",
        "        self.total_loss_test.append(self.cross(out_test,y_test)/len(x_test))\n",
        "    return self.total_accu,self.total_loss,self.total_accu_test,self.total_loss_test\n",
        "\n",
        "  def predict(self,x):\n",
        "    output = x\n",
        "    for l in self.layers:\n",
        "      l.forward(output)\n",
        "      output = l.output_y\n",
        "    return output\n",
        "\n",
        "  def backward(self,dout):\n",
        "    dy = dout\n",
        "    for l in self.layers[::-1]:\n",
        "      l.back(dy)\n",
        "      dy = l.delta_x\n",
        "    return dy\n",
        "  \n",
        "  def update(self):\n",
        "    for l in self.layers:\n",
        "      l.para_update(self.lr)\n",
        "  \n",
        "  def accu(self,ylabel,target):\n",
        "    res = ylabel.argmax(axis=1)\n",
        "    tar = target.argmax(axis=1)\n",
        "    accu = 0\n",
        "    for r,t in zip(res,tar):\n",
        "      if r==t:\n",
        "        accu += 1\n",
        "    return (accu/len(res))\n",
        "  \n",
        "  def cross(self,y,t):\n",
        "    return -np.sum(t*np.log(y))\n",
        "        "
      ],
      "execution_count": null,
      "outputs": []
    },
    {
      "cell_type": "code",
      "metadata": {
        "id": "uCNvz935GFrx"
      },
      "source": [
        "def plot_curve(train_accu,test_accu,train_loss,test_loss,nn):\n",
        "  plt.figure(1)\n",
        "  plt.title('Accuracy')\n",
        "  plt.plot(train_accu,color='red',label = 'train')\n",
        "  plt.plot(test_accu,color='blue',label = 'test')\n",
        "  plt.legend(loc='best')\n",
        "  plt.xlabel('Iterations')\n",
        "  plt.figure(2)\n",
        "  plt.title('Average Learning curves')\n",
        "  plt.plot(train_loss,color='red',label = 'train')\n",
        "  plt.plot(test_loss,color='blue',label = 'test')\n",
        "  plt.xlabel('Iterations')\n",
        "  plt.legend(loc='best')\n",
        "  plt.show()\n",
        "  print(\"Batch size :{}\\nEpoch:{}\\nTraining accuracy:{}\\nTesting accuracy:{}\\nAverage training loss:{}\\nAverage testing loss:{}\".format(nn.batch,nn.epoch,nn.total_accu[-1],nn.total_accu_test[-1],nn.total_loss[-1],nn.total_loss_test[-1]))"
      ],
      "execution_count": null,
      "outputs": []
    },
    {
      "cell_type": "code",
      "metadata": {
        "id": "w3riIxtTTGig"
      },
      "source": [
        "a = np.load('train.npz')\n",
        "b = np.load('test.npz')"
      ],
      "execution_count": null,
      "outputs": []
    },
    {
      "cell_type": "code",
      "metadata": {
        "id": "v1FrPgfTTQrA"
      },
      "source": [
        "train_x = (a['image'].reshape([len(a['image']),1024]))/255\n",
        "train_y = label(a['label'])\n",
        "test_x = (b['image'].reshape([len(b['image']),1024]))/255\n",
        "test_y = label(b['label'])"
      ],
      "execution_count": null,
      "outputs": []
    },
    {
      "cell_type": "markdown",
      "metadata": {
        "id": "GTvwSCZXAjI1"
      },
      "source": [
        "1.(a)"
      ]
    },
    {
      "cell_type": "code",
      "metadata": {
        "id": "J_DKS2NyUmcA"
      },
      "source": [
        "act1 = relu()\n",
        "act2 = softmax()\n",
        "activators = [act1,act2]\n",
        "dims = [1024,512,6]"
      ],
      "execution_count": null,
      "outputs": []
    },
    {
      "cell_type": "code",
      "metadata": {
        "id": "Dh15-9Y1TahA"
      },
      "source": [
        "# nn = nets_new(dims,activators,False)"
      ],
      "execution_count": null,
      "outputs": []
    },
    {
      "cell_type": "code",
      "metadata": {
        "id": "2JiMB4jrTb9P"
      },
      "source": [
        "# train_accu,train_loss,test_accu,test_loss = nn.train(train_x,train_y,test_x,test_y,0.01,2048,50)"
      ],
      "execution_count": null,
      "outputs": []
    },
    {
      "cell_type": "code",
      "metadata": {
        "colab": {
          "base_uri": "https://localhost:8080/",
          "height": 673
        },
        "id": "Hq-XmX6WIDzD",
        "outputId": "5b642ed6-94b0-415f-8d97-30bcb13c9993"
      },
      "source": [
        "# plot_curve(train_accu,test_accu,train_loss,test_loss,nn)"
      ],
      "execution_count": null,
      "outputs": [
        {
          "output_type": "display_data",
          "data": {
            "image/png": "[encoded data removed]",
            "text/plain": [
              "<Figure size 432x288 with 1 Axes>"
            ]
          },
          "metadata": {
            "tags": [],
            "needs_background": "light"
          }
        },
        {
          "output_type": "display_data",
          "data": {
            "image/png": "[encoded data removed]",
            "text/plain": [
              "<Figure size 432x288 with 1 Axes>"
            ]
          },
          "metadata": {
            "tags": [],
            "needs_background": "light"
          }
        },
        {
          "output_type": "stream",
          "text": [
            "Batch size :2048\n",
            "Epoch:50\n",
            "Training accuracy:0.9745670995670995\n",
            "Testing accuracy:0.9607744531053558\n",
            "Average training loss:0.14381949558899806\n",
            "Average testing loss:0.16965251086438807\n"
          ],
          "name": "stdout"
        }
      ]
    },
    {
      "cell_type": "markdown",
      "metadata": {
        "id": "OIDBeKp9Bus2"
      },
      "source": [
        "1.(b)"
      ]
    },
    {
      "cell_type": "markdown",
      "metadata": {
        "id": "_soz2qFx6BKQ"
      },
      "source": [
        "我在第(a)題使用的batch size為2048，因此在此題我選用batch size分別為51000以及1024來做對照。由下圖可發現size為51000的由於迭代次數較少，曲線較不會震盪，但在相同的epoch下收斂速度也沒那麼快，程式執行時間會快一點。而size為1024的由於迭代次數較多，曲線動盪更為明顯，但收斂效果是十分顯著的。"
      ]
    },
    {
      "cell_type": "code",
      "metadata": {
        "id": "YaZ5O-o7IjQG"
      },
      "source": [
        "# nn2 = nets_new(dims,activators,False)"
      ],
      "execution_count": null,
      "outputs": []
    },
    {
      "cell_type": "code",
      "metadata": {
        "id": "h6vrMy16UNLf"
      },
      "source": [
        "# train_accu2,train_loss2,test_accu2,test_loss2 = nn2.train(train_x,train_y,test_x,test_y,0.01,51000,50)"
      ],
      "execution_count": null,
      "outputs": []
    },
    {
      "cell_type": "code",
      "metadata": {
        "colab": {
          "base_uri": "https://localhost:8080/",
          "height": 673
        },
        "id": "Eh_-wT6tI6Vh",
        "outputId": "59d5c417-5d0a-431e-d513-8824883c2627"
      },
      "source": [
        "# plot_curve(train_accu2,test_accu2,train_loss2,test_loss2,nn2)"
      ],
      "execution_count": null,
      "outputs": [
        {
          "output_type": "display_data",
          "data": {
            "image/png": "[encoded data removed]",
            "text/plain": [
              "<Figure size 432x288 with 1 Axes>"
            ]
          },
          "metadata": {
            "tags": [],
            "needs_background": "light"
          }
        },
        {
          "output_type": "display_data",
          "data": {
            "image/png": "[encoded data removed]",
            "text/plain": [
              "<Figure size 432x288 with 1 Axes>"
            ]
          },
          "metadata": {
            "tags": [],
            "needs_background": "light"
          }
        },
        {
          "output_type": "stream",
          "text": [
            "Batch size :51000\n",
            "Epoch:50\n",
            "Training accuracy:0.866764705882353\n",
            "Testing accuracy:0.8447322102087\n",
            "Average training loss:0.7341645604465148\n",
            "Average testing loss:0.7065377810113311\n"
          ],
          "name": "stdout"
        }
      ]
    },
    {
      "cell_type": "code",
      "metadata": {
        "id": "12TsumRvOKsb"
      },
      "source": [
        "# nn3 = nets_new(dims,activators,False)"
      ],
      "execution_count": null,
      "outputs": []
    },
    {
      "cell_type": "code",
      "metadata": {
        "id": "zG6IyBTEOM73"
      },
      "source": [
        "# train_accu3,train_loss3,test_accu3,test_loss3 = nn3.train(train_x,train_y,test_x,test_y,0.01,1024,50)"
      ],
      "execution_count": null,
      "outputs": []
    },
    {
      "cell_type": "code",
      "metadata": {
        "colab": {
          "base_uri": "https://localhost:8080/",
          "height": 675
        },
        "id": "wkZBSYkxKCnG",
        "outputId": "bd80fa2f-f7b8-4091-adda-9b74596116d3"
      },
      "source": [
        "# plot_curve(train_accu3,test_accu3,train_loss3,test_loss3,nn3)"
      ],
      "execution_count": null,
      "outputs": [
        {
          "output_type": "display_data",
          "data": {
            "image/png": "[encoded data removed]",
            "text/plain": [
              "<Figure size 432x288 with 1 Axes>"
            ]
          },
          "metadata": {
            "tags": [],
            "needs_background": "light"
          }
        },
        {
          "output_type": "display_data",
          "data": {
            "image/png": "[encoded data removed]",
            "text/plain": [
              "<Figure size 432x288 with 1 Axes>"
            ]
          },
          "metadata": {
            "tags": [],
            "needs_background": "light"
          }
        },
        {
          "output_type": "stream",
          "text": [
            "Batch size :1024\n",
            "Epoch:50\n",
            "Training accuracy:0.9817961165048543\n",
            "Testing accuracy:0.976238370631129\n",
            "Average training loss:0.10419772874323054\n",
            "Average testing loss:0.12063637337255405\n"
          ],
          "name": "stdout"
        }
      ]
    },
    {
      "cell_type": "code",
      "metadata": {
        "id": "dmx4w4aXIYg3"
      },
      "source": [
        ""
      ],
      "execution_count": null,
      "outputs": []
    },
    {
      "cell_type": "markdown",
      "metadata": {
        "id": "rWkzvYdIMTXg"
      },
      "source": [
        "1.(c)"
      ]
    },
    {
      "cell_type": "markdown",
      "metadata": {
        "id": "U8JFkAJI9eVo"
      },
      "source": [
        "設定zero_weight後發現模型訓練不出來，我覺得應該是backpropagation的公式中，微分傳回的運算會使用到weight矩陣的運算，但由於值都是0，所以無法更新參數，以至於模型無法訓練。"
      ]
    },
    {
      "cell_type": "code",
      "metadata": {
        "id": "U0yk3NeJYkxK"
      },
      "source": [
        "# nn_zero_init = nets_new(dims,activators,True)"
      ],
      "execution_count": null,
      "outputs": []
    },
    {
      "cell_type": "code",
      "metadata": {
        "id": "YZ4Dm0Y4YwRw"
      },
      "source": [
        "# train_accu4,train_loss4,test_accu4,test_loss4 = nn_zero_init.train(train_x,train_y,test_x,test_y,0.01,51000,50)"
      ],
      "execution_count": null,
      "outputs": []
    },
    {
      "cell_type": "code",
      "metadata": {
        "colab": {
          "base_uri": "https://localhost:8080/",
          "height": 675
        },
        "id": "6EK89lm-KTWW",
        "outputId": "60e4a441-582f-4fc1-d110-f33f384bfa3b"
      },
      "source": [
        "# plot_curve(train_accu4,test_accu4,train_loss4,test_loss4,nn_zero_init)"
      ],
      "execution_count": null,
      "outputs": [
        {
          "output_type": "display_data",
          "data": {
            "image/png": "[encoded data removed]",
            "text/plain": [
              "<Figure size 432x288 with 1 Axes>"
            ]
          },
          "metadata": {
            "tags": [],
            "needs_background": "light"
          }
        },
        {
          "output_type": "display_data",
          "data": {
            "image/png": "[encoded data removed]",
            "text/plain": [
              "<Figure size 432x288 with 1 Axes>"
            ]
          },
          "metadata": {
            "tags": [],
            "needs_background": "light"
          }
        },
        {
          "output_type": "stream",
          "text": [
            "Batch size :51000\n",
            "Epoch:50\n",
            "Training accuracy:0.16666666666666666\n",
            "Testing accuracy:0.057078199647975864\n",
            "Average training loss:1.7923694767353562\n",
            "Average testing loss:1.8000165875332657\n"
          ],
          "name": "stdout"
        }
      ]
    },
    {
      "cell_type": "markdown",
      "metadata": {
        "id": "pcC0rba8PEjR"
      },
      "source": [
        "2.(a)"
      ]
    },
    {
      "cell_type": "code",
      "metadata": {
        "id": "2mAvzB1rPDMI"
      },
      "source": [
        "parser = argparse.ArgumentParser()\n",
        "parser.add_argument(\"-c\",\"--config\",help=\"input the config\",dest=\"con\")\n",
        "parser.add_argument(\"-w\",\"--weight\",help=\"input the weight\",dest=\"wei\")\n",
        "parser.add_argument(\"-i\",\"--imgfilelistname\",help=\"input the path of img\",dest='im')\n",
        "args = parser.parse_args()"
      ],
      "execution_count": null,
      "outputs": []
    },
    {
      "cell_type": "code",
      "metadata": {
        "colab": {
          "base_uri": "https://localhost:8080/",
          "height": 182
        },
        "id": "d0j14IYiQauC",
        "outputId": "6c0f76de-f318-4622-b529-3a9a7f0e9724"
      },
      "source": [
        "with open(args.con,'r') as f:\n",
        "  con = json.load(f)"
      ],
      "execution_count": null,
      "outputs": [
        {
          "output_type": "error",
          "ename": "TypeError",
          "evalue": "ignored",
          "traceback": [
            "\u001b[0;31m---------------------------------------------------------------------------\u001b[0m",
            "\u001b[0;31mTypeError\u001b[0m                                 Traceback (most recent call last)",
            "\u001b[0;32m<ipython-input-21-f0d4a8a1ce9f>\u001b[0m in \u001b[0;36m<module>\u001b[0;34m()\u001b[0m\n\u001b[0;32m----> 1\u001b[0;31m \u001b[0;32mwith\u001b[0m \u001b[0mopen\u001b[0m\u001b[0;34m(\u001b[0m\u001b[0margs\u001b[0m\u001b[0;34m.\u001b[0m\u001b[0mconfig\u001b[0m\u001b[0;34m,\u001b[0m\u001b[0;34m'r'\u001b[0m\u001b[0;34m)\u001b[0m \u001b[0;32mas\u001b[0m \u001b[0mf\u001b[0m\u001b[0;34m:\u001b[0m\u001b[0;34m\u001b[0m\u001b[0;34m\u001b[0m\u001b[0m\n\u001b[0m\u001b[1;32m      2\u001b[0m   \u001b[0mcon\u001b[0m \u001b[0;34m=\u001b[0m \u001b[0mjson\u001b[0m\u001b[0;34m.\u001b[0m\u001b[0mload\u001b[0m\u001b[0;34m(\u001b[0m\u001b[0mf\u001b[0m\u001b[0;34m)\u001b[0m\u001b[0;34m\u001b[0m\u001b[0;34m\u001b[0m\u001b[0m\n",
            "\u001b[0;31mTypeError\u001b[0m: expected str, bytes or os.PathLike object, not NoneType"
          ]
        }
      ]
    },
    {
      "cell_type": "code",
      "metadata": {
        "id": "2Tk7tXmzTiMp"
      },
      "source": [
        "batch = con[\"batch_size\"]\n",
        "epoch = con['epoch']\n",
        "lr = con['lr']\n",
        "nn = con['nn']"
      ],
      "execution_count": null,
      "outputs": []
    },
    {
      "cell_type": "code",
      "metadata": {
        "id": "h2KNSzQdppN2"
      },
      "source": [
        "def img_list(t):\n",
        "  txt = []\n",
        "  with open(t,'r') as f:\n",
        "    line = f.readline()\n",
        "    while line!='':\n",
        "      txt.append(line)\n",
        "      line = f.readline()\n",
        "  new_txt = [l.rstrip('\\n') for l in txt]\n",
        "  return new_txt"
      ],
      "execution_count": null,
      "outputs": []
    },
    {
      "cell_type": "code",
      "metadata": {
        "id": "2s9ezT9iq6al"
      },
      "source": [
        "def img(txt):\n",
        "  res = []\n",
        "  for i in range(len(txt)):\n",
        "    img = Image.open(txt[i]).convert('L')\n",
        "    new_img = np.array(img)/255\n",
        "    fimg = new_img.reshape(1,1024)\n",
        "    res.append(fimg)\n",
        "  return res\n"
      ],
      "execution_count": null,
      "outputs": []
    },
    {
      "cell_type": "code",
      "metadata": {
        "colab": {
          "base_uri": "https://localhost:8080/"
        },
        "id": "yEaqN7z7qyiP",
        "outputId": "6752e764-dce6-4940-e690-edd763a95853"
      },
      "source": [
        "txt = img_list(args.im)"
      ],
      "execution_count": null,
      "outputs": [
        {
          "output_type": "execute_result",
          "data": {
            "text/plain": [
              "['/content/1.jpeg', '/content/2.jpeg', '/content/3.jpeg']"
            ]
          },
          "metadata": {
            "tags": []
          },
          "execution_count": 15
        }
      ]
    },
    {
      "cell_type": "code",
      "metadata": {
        "colab": {
          "base_uri": "https://localhost:8080/"
        },
        "id": "OGKG0InCrxa-",
        "outputId": "213db879-b340-446c-ccef-9e26f52e5fae"
      },
      "source": [
        "img_l = img(txt)"
      ],
      "execution_count": null,
      "outputs": [
        {
          "output_type": "execute_result",
          "data": {
            "text/plain": [
              "[array([[0.        , 0.        , 0.        , ..., 0.        , 0.01960784,\n",
              "         0.        ]]),\n",
              " array([[0.39607843, 0.39607843, 0.39607843, ..., 0.40784314, 0.4       ,\n",
              "         0.38823529]]),\n",
              " array([[0.24313725, 0.10588235, 0.12941176, ..., 0.10588235, 0.11764706,\n",
              "         0.12941176]])]"
            ]
          },
          "metadata": {
            "tags": []
          },
          "execution_count": 16
        }
      ]
    },
    {
      "cell_type": "code",
      "metadata": {
        "id": "YZ8iT071d4ak"
      },
      "source": [
        "w = np.load(args.wei)"
      ],
      "execution_count": null,
      "outputs": []
    },
    {
      "cell_type": "code",
      "metadata": {
        "id": "EcGdvT7Bd-NL"
      },
      "source": [
        "def w_list(w):\n",
        "  weight = []\n",
        "  for i in w.files:\n",
        "    weight.append(i)\n",
        "  return weight"
      ],
      "execution_count": null,
      "outputs": []
    },
    {
      "cell_type": "code",
      "metadata": {
        "colab": {
          "base_uri": "https://localhost:8080/"
        },
        "id": "-yFKryjVfXYF",
        "outputId": "55ca3833-41b1-422f-fe26-8a95c73c2bbb"
      },
      "source": [
        "w_l = w_list(w)\n"
      ],
      "execution_count": null,
      "outputs": [
        {
          "output_type": "execute_result",
          "data": {
            "text/plain": [
              "['layer1', 'layer2', 'output']"
            ]
          },
          "metadata": {
            "tags": []
          },
          "execution_count": 19
        }
      ]
    },
    {
      "cell_type": "code",
      "metadata": {
        "id": "Pef6qNyGY1u_"
      },
      "source": [
        "def fc(nn):\n",
        "  layer_list = []\n",
        "  for key,val in nn.items():\n",
        "    layer_list.append(val['input_dim'])\n",
        "    if key == 'output':\n",
        "      layer_list.append(val['output_dim'])\n",
        "  return layer_list"
      ],
      "execution_count": null,
      "outputs": []
    },
    {
      "cell_type": "code",
      "metadata": {
        "colab": {
          "base_uri": "https://localhost:8080/"
        },
        "id": "33ZqAmcRW1fb",
        "outputId": "71ad7783-bc62-4f06-9d9e-52e4c6566c63"
      },
      "source": [
        "l_l = fc(nn)"
      ],
      "execution_count": null,
      "outputs": [
        {
          "output_type": "execute_result",
          "data": {
            "text/plain": [
              "[1024, 2048, 512, 6]"
            ]
          },
          "metadata": {
            "tags": []
          },
          "execution_count": 23
        }
      ]
    },
    {
      "cell_type": "code",
      "metadata": {
        "id": "zQj93MIrWJRD"
      },
      "source": [
        "def act(nn):\n",
        "  act_list = []\n",
        "  for i in range(len(nn)):\n",
        "    if i == len(nn)-1:\n",
        "      act_list.append(softmax())\n",
        "    else:\n",
        "      act_list.append(relu())\n",
        "  return act_list"
      ],
      "execution_count": null,
      "outputs": []
    },
    {
      "cell_type": "code",
      "metadata": {
        "id": "EPaunhhNT2Ep"
      },
      "source": [
        "a_l = act(nn)"
      ],
      "execution_count": null,
      "outputs": []
    },
    {
      "cell_type": "code",
      "metadata": {
        "id": "vhRd5994V99g"
      },
      "source": [
        "class layer2(object):\n",
        "  def __init__(self,input_size,out_size,activator,weight):\n",
        "    self.in_size = input_size\n",
        "    self.out_size = out_size\n",
        "    self.activator = activator\n",
        "    self.weight = weight\n",
        "  def forward(self,x):\n",
        "    self.x = x\n",
        "    self.Y = np.dot(self.x,self.weight)\n",
        "    self.output_y = self.activator.foward(self.Y)\n",
        "  def back(self,delta_y):\n",
        "    dout_activator = self.activator.backward(delta_y)\n",
        "    self.delta_x = np.dot(dout_activator,self.weight.T)\n",
        "    self.delta_w = np.dot(self.x.T,dout_activator)\n",
        "    \n",
        "  def para_update(self,lr):\n",
        "    self.weight -= (lr/len(self.x))*self.delta_w"
      ],
      "execution_count": null,
      "outputs": []
    },
    {
      "cell_type": "code",
      "metadata": {
        "id": "cPYDv-kiAkWW"
      },
      "source": [
        "class nets2(object):\n",
        "  def __init__(self,neurons,activators,wn,w_list):\n",
        "    self.layers = []\n",
        "    for i in range(len(neurons)-1):\n",
        "      self.layers.append(layer2(neurons[i],neurons[i+1],activators[i],wn[w_list[i]]))\n",
        "  def train(self,x_train,y_train,x_test,y_test,lr,batch,epoch):\n",
        "    self.lr = lr\n",
        "    self.batch = batch\n",
        "    self.epoch = epoch\n",
        "    self.total_accu = []\n",
        "    self.total_loss = []\n",
        "    self.total_accu_test = []\n",
        "    self.total_loss_test = []\n",
        "    if len(x_train)%batch==0:\n",
        "      self.mini_batch = len(x_train)//batch\n",
        "    else:\n",
        "      self.mini_batch = len(x_train)//batch+1\n",
        "    for i in range(epoch):\n",
        "      for j in range(self.mini_batch):\n",
        "        if j == self.mini_batch-1:\n",
        "          train = x_train[j*batch:,:]\n",
        "          label = y_train[j*batch:,:]\n",
        "        else:\n",
        "          train = x_train[j*batch:j*batch+batch,:]\n",
        "          label = y_train[j*batch:j*batch+batch,:]\n",
        "        out = self.predict(train)\n",
        "        # self.total_accu.append(self.accu(out,label))\n",
        "        # self.total_loss.append(self.cross(out,label)/len(train))\n",
        "        dout = out-label\n",
        "        self.backward(dout)\n",
        "        self.update()\n",
        "        # out_test = self.predict(x_test)\n",
        "        # self.total_accu_test.append(self.accu(out_test,y_test))\n",
        "        # self.total_loss_test.append(self.cross(out_test,y_test)/len(x_test))\n",
        "    return self.total_accu,self.total_loss,self.total_accu_test,self.total_loss_test\n",
        "\n",
        "  def predict(self,x):\n",
        "    output = x\n",
        "    for l in self.layers:\n",
        "      l.forward(output)\n",
        "      output = l.output_y\n",
        "    return output\n",
        "\n",
        "  def backward(self,dout):\n",
        "    dy = dout\n",
        "    for l in self.layers[::-1]:\n",
        "      l.back(dy)\n",
        "      dy = l.delta_x\n",
        "    return dy\n",
        "  \n",
        "  def update(self):\n",
        "    for l in self.layers:\n",
        "      l.para_update(self.lr)\n",
        "  \n",
        "  def accu(self,ylabel,target):\n",
        "    res = ylabel.argmax(axis=1)\n",
        "    tar = target.argmax(axis=1)\n",
        "    accu = 0\n",
        "    for r,t in zip(res,tar):\n",
        "      if r==t:\n",
        "        accu += 1\n",
        "    return (accu/len(res))\n",
        "  \n",
        "  def cross(self,y,t):\n",
        "    return -np.sum(t*np.log(y))"
      ],
      "execution_count": null,
      "outputs": []
    },
    {
      "cell_type": "code",
      "metadata": {
        "id": "rkTPx5khtAFn"
      },
      "source": [
        "nn5 = nets2(l_l,a_l,w,w_l)"
      ],
      "execution_count": null,
      "outputs": []
    },
    {
      "cell_type": "code",
      "metadata": {
        "id": "xB1Wf0O3tO1i"
      },
      "source": [
        "q,w,e,r = nn5.train(train_x,train_y,test_x,test_y,lr,batch,epoch)"
      ],
      "execution_count": null,
      "outputs": []
    },
    {
      "cell_type": "code",
      "metadata": {
        "id": "uFOHBssJC-i-"
      },
      "source": [
        "def result(img,nn):\n",
        "  res = []\n",
        "  for i in range(len(img)):\n",
        "    pre = np.argmax(nn.predict(img[i]))\n",
        "    res.append(pre)\n",
        "  return res"
      ],
      "execution_count": null,
      "outputs": []
    },
    {
      "cell_type": "code",
      "metadata": {
        "id": "dOOH7okz51W7"
      },
      "source": [
        "final = result(img_l,nn5)"
      ],
      "execution_count": null,
      "outputs": []
    },
    {
      "cell_type": "code",
      "metadata": {
        "id": "iEbvs68s7t5M"
      },
      "source": [
        "with open('output.txt','w') as rr:\n",
        "  for j in final:\n",
        "    rr.write(str(j))"
      ],
      "execution_count": null,
      "outputs": []
    },
    {
      "cell_type": "code",
      "metadata": {
        "id": "mmOX4-x0_4xh"
      },
      "source": [
        ""
      ],
      "execution_count": null,
      "outputs": []
    }
  ]
}